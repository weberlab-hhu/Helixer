{
 "cells": [
  {
   "cell_type": "markdown",
   "id": "27a5763f-3780-439c-a66b-f4632e7eb1ed",
   "metadata": {},
   "source": [
    "<div class=\"alert alert-block alert-info\"> <b>NOTE:</b> This jupyter notebook is a companion to the <b>comparing_annotations.md</b> file. For more details read that documentation first and then come back here. </div>   \n",
    "   \n",
    "# BUSCO performance comparison\n",
    "The code for the comparison uses a lot of files that won't be uploaded here. This is simply an **example** and a **documentation** of how to analize and plot BUSCO metrics for gene annotations from different sources/gene callers. This notebook just includes examples from plant species used for evaluation of Helixer and the final summary plot for all lineages. The plots are shown in a low resolution to keep the notebook file size smaller.  \n",
    "   \n",
    "The expected file structure the code is working with is as follows:"
   ]
  },
  {
   "cell_type": "raw",
   "id": "fca49cbf-7ff4-4220-870a-ca4b65d46c39",
   "metadata": {},
   "source": [
    "<parent folder>\n",
    "| \n",
    "|\n",
    "├── busco_performance_comparison.ipynb (our notebook)\n",
    "|\n",
    "|\n",
    "└── summary\n",
    "      ├── plant (or other group like fungi, etc.)\n",
    "      |     |\n",
    "      |     ├── <species 1>\n",
    "      |     |\n",
    "      |     ├── <species 2>\n",
    "      |     |\n",
    "      |     └── ...\n",
    "      └── ..."
   ]
  },
  {
   "cell_type": "markdown",
   "id": "0bcca0b6-fe85-4d1f-9459-f699f68d8dee",
   "metadata": {},
   "source": [
    "Each species folder is structured as follows (only files important for the analysis are mentioned):"
   ]
  },
  {
   "cell_type": "raw",
   "id": "16da6ea2-bcc7-4f2b-8c9c-0b565b1dc54e",
   "metadata": {},
   "source": [
    "<species 1>\n",
    "| \n",
    "└── busco\n",
    "      |\n",
    "      └── <method> (one of: reference, helixer_post, genemark, augustus)\n",
    "            ├── short_summary*.txt\n",
    "            |\n",
    "            └── ..."
   ]
  },
  {
   "cell_type": "markdown",
   "id": "43868e4d-9c74-4f66-a9c8-6dc321024772",
   "metadata": {},
   "source": [
    "## Parsing the data\n",
    "Now that we know how the directories we will be using are structured, we can start with parsing the BUSCO output file `short_summary*.txt` for every gene caller, Helixer, AUGUSTUS and GeneMark, as well as the reference."
   ]
  },
  {
   "cell_type": "code",
   "execution_count": 1,
   "id": "5de56dd1-8953-49ba-aed4-10267768d0e1",
   "metadata": {},
   "outputs": [],
   "source": [
    "import re\n",
    "import pandas as pd\n",
    "import glob\n",
    "import os\n",
    "import matplotlib.pyplot as plt\n",
    "from pandas.plotting import parallel_coordinates\n",
    "import numpy as np\n",
    "import seaborn as sns"
   ]
  },
  {
   "cell_type": "markdown",
   "id": "16d40907-7882-4582-826f-947b39196f4f",
   "metadata": {},
   "source": [
    "Example BUSCO summary:"
   ]
  },
  {
   "cell_type": "code",
   "execution_count": 2,
   "id": "011c2990-3adb-4321-bcb6-2fd5fbad5873",
   "metadata": {},
   "outputs": [
    {
     "name": "stdout",
     "output_type": "stream",
     "text": [
      "# BUSCO version is: 5.2.2 \n",
      "# The lineage dataset is: viridiplantae_odb10 (Creation date: 2020-09-10, number of genomes: 57, number of BUSCOs: 425)\n",
      "# Summarized benchmarking in BUSCO notation for file /gpfs/project/alden101/ProjectsRoot/Ankylosaurus/unorganized/aardonyx/tf_tester/helixer/data/plants/single_testers/Arachis_hypogaea/meta_collection/helixer_post_v0.3_a_0080/protein.fa\n",
      "# BUSCO was run in mode: proteins\n",
      "\n",
      "\t***** Results: *****\n",
      "\n",
      "\tC:99.3%[S:4.5%,D:94.8%],F:0.7%,M:0.0%,n:425\t   \n",
      "\t422\tComplete BUSCOs (C)\t\t\t   \n",
      "\t19\tComplete and single-copy BUSCOs (S)\t   \n",
      "\t403\tComplete and duplicated BUSCOs (D)\t   \n",
      "\t3\tFragmented BUSCOs (F)\t\t\t   \n",
      "\t0\tMissing BUSCOs (M)\t\t\t   \n",
      "\t425\tTotal BUSCO groups searched\t\t   \n",
      "\n",
      "Dependencies and versions:\n",
      "\thmmsearch: 3.3\n"
     ]
    }
   ],
   "source": [
    "path='../summary/plant/Arachis_hypogaea/busco/helixer_post/short_summary.specific.viridiplantae_odb10.tmp__prot.txt'\n",
    "with open(path, 'r') as f:\n",
    "    for line in f.readlines():\n",
    "        print(line, end='')"
   ]
  },
  {
   "cell_type": "code",
   "execution_count": 3,
   "id": "15f2180f-8824-4b35-b4f4-9ed5d121da59",
   "metadata": {},
   "outputs": [],
   "source": [
    "def parse_busco(path):\n",
    "    raw = []\n",
    "    with open(path) as f:\n",
    "        for line in f:\n",
    "            line = line.rstrip().strip()  # remove trailing characters (e.g newline) and whitespaces\n",
    "            if re.match(r'^\\d', line):  # check if line starts with a number, i.e. the table with complete, missing, ... BUSCO counts\n",
    "                line = re.sub(' ', '_', line)  # replace spaces with underscore: Complete BUSCOs (C) -> Complete_BUSCOs_(C)\n",
    "                sline = line.split()  # split line in count and category\n",
    "                raw.append([int(sline[0]), sline[1]])\n",
    "    # create pandas dataframe\n",
    "    df = pd.DataFrame(raw)\n",
    "    total = df.iloc[-1, 0]\n",
    "    df.columns = ['count', 'category']\n",
    "    df[\"fraction\"] = df[\"count\"] / total  # calculate fractions\n",
    "    df.index = [re.sub('_BUSCO.*', '', x) for x in df[\"category\"]]  # create row names\n",
    "    return df"
   ]
  },
  {
   "cell_type": "code",
   "execution_count": 4,
   "id": "21508a04-a60a-4239-9d51-53caabe32ba8",
   "metadata": {},
   "outputs": [
    {
     "data": {
      "text/html": [
       "<div>\n",
       "<style scoped>\n",
       "    .dataframe tbody tr th:only-of-type {\n",
       "        vertical-align: middle;\n",
       "    }\n",
       "\n",
       "    .dataframe tbody tr th {\n",
       "        vertical-align: top;\n",
       "    }\n",
       "\n",
       "    .dataframe thead th {\n",
       "        text-align: right;\n",
       "    }\n",
       "</style>\n",
       "<table border=\"1\" class=\"dataframe\">\n",
       "  <thead>\n",
       "    <tr style=\"text-align: right;\">\n",
       "      <th></th>\n",
       "      <th>count</th>\n",
       "      <th>category</th>\n",
       "      <th>fraction</th>\n",
       "    </tr>\n",
       "  </thead>\n",
       "  <tbody>\n",
       "    <tr>\n",
       "      <th>Complete</th>\n",
       "      <td>422</td>\n",
       "      <td>Complete_BUSCOs_(C)</td>\n",
       "      <td>0.992941</td>\n",
       "    </tr>\n",
       "    <tr>\n",
       "      <th>Complete_and_single-copy</th>\n",
       "      <td>19</td>\n",
       "      <td>Complete_and_single-copy_BUSCOs_(S)</td>\n",
       "      <td>0.044706</td>\n",
       "    </tr>\n",
       "    <tr>\n",
       "      <th>Complete_and_duplicated</th>\n",
       "      <td>403</td>\n",
       "      <td>Complete_and_duplicated_BUSCOs_(D)</td>\n",
       "      <td>0.948235</td>\n",
       "    </tr>\n",
       "    <tr>\n",
       "      <th>Fragmented</th>\n",
       "      <td>3</td>\n",
       "      <td>Fragmented_BUSCOs_(F)</td>\n",
       "      <td>0.007059</td>\n",
       "    </tr>\n",
       "    <tr>\n",
       "      <th>Missing</th>\n",
       "      <td>0</td>\n",
       "      <td>Missing_BUSCOs_(M)</td>\n",
       "      <td>0.000000</td>\n",
       "    </tr>\n",
       "    <tr>\n",
       "      <th>Total</th>\n",
       "      <td>425</td>\n",
       "      <td>Total_BUSCO_groups_searched</td>\n",
       "      <td>1.000000</td>\n",
       "    </tr>\n",
       "  </tbody>\n",
       "</table>\n",
       "</div>"
      ],
      "text/plain": [
       "                          count                             category  fraction\n",
       "Complete                    422                  Complete_BUSCOs_(C)  0.992941\n",
       "Complete_and_single-copy     19  Complete_and_single-copy_BUSCOs_(S)  0.044706\n",
       "Complete_and_duplicated     403   Complete_and_duplicated_BUSCOs_(D)  0.948235\n",
       "Fragmented                    3                Fragmented_BUSCOs_(F)  0.007059\n",
       "Missing                       0                   Missing_BUSCOs_(M)  0.000000\n",
       "Total                       425          Total_BUSCO_groups_searched  1.000000"
      ]
     },
     "execution_count": 4,
     "metadata": {},
     "output_type": "execute_result"
    }
   ],
   "source": [
    "df = parse_busco(path)\n",
    "df"
   ]
  },
  {
   "cell_type": "markdown",
   "id": "17272588-bc09-415e-9171-21311d0ac0cc",
   "metadata": {},
   "source": [
    "We import BUSCO short summary text files from every species in the given base directory (i.e. plant, fungi, vertebrate or invertebrate) and for every species every available \"method\" (i.e. reference, helixer_post, genemark, augustus)."
   ]
  },
  {
   "cell_type": "code",
   "execution_count": 5,
   "id": "7139e360-e9f6-4649-8923-31996fab7cb3",
   "metadata": {},
   "outputs": [],
   "source": [
    "# import buscos for all species\n",
    "def import_full_species(basedir):\n",
    "    dfs = {}\n",
    "    for species in os.listdir(basedir):\n",
    "        dfs[species] = {}\n",
    "        try:\n",
    "            for method in os.listdir(os.path.join(basedir, species, 'busco')):\n",
    "                dfs[species][method] = {}\n",
    "                paths = glob.glob(f'{basedir}/{species}/busco/{method}/short_summary*txt')\n",
    "                assert len(paths) == 1\n",
    "                dfs[species][method] = parse_busco(paths[0])\n",
    "        except FileNotFoundError:\n",
    "            pass\n",
    "    return dfs"
   ]
  },
  {
   "cell_type": "code",
   "execution_count": 6,
   "id": "71003f4c-93b0-440d-873f-2cc0b77f1920",
   "metadata": {},
   "outputs": [],
   "source": [
    "group = 'plant'\n",
    "dfs = import_full_species(f'../summary/{group}/')"
   ]
  },
  {
   "cell_type": "markdown",
   "id": "f756bfd7-8b96-471a-9a19-495b5596c318",
   "metadata": {},
   "source": [
    "The fraction of complete and missing BUSCOs can now be extracted from the directories for every species and method (if available)."
   ]
  },
  {
   "cell_type": "code",
   "execution_count": 7,
   "id": "c7b5e017-cf29-45a7-a12e-7b2971c79c61",
   "metadata": {},
   "outputs": [],
   "source": [
    "def extract1(df_dict, idx, colidx):\n",
    "    # extract specific row and column from each busco dataframe created by import_full_species\n",
    "    def thing_or_none(species, method):\n",
    "        # check if busco values are available for selected species and method, if not return None\n",
    "        try:\n",
    "            out = df_dict[species][method].loc[idx, colidx]\n",
    "        except KeyError:\n",
    "            out = None\n",
    "        return out\n",
    "            \n",
    "    methods = ['reference', 'helixer_post', 'genemark', 'augustus']\n",
    "    lists = [[ thing_or_none(species, method) for method in methods] \\\n",
    "             for species in df_dict]\n",
    "    df = pd.DataFrame(lists)\n",
    "    df.index = [species for species in df_dict]  # row names = species\n",
    "    df.columns = methods  # column names = methods\n",
    "    return df"
   ]
  },
  {
   "cell_type": "code",
   "execution_count": 8,
   "id": "b361d521-4a9c-4d94-a3e3-ab1f242c6389",
   "metadata": {},
   "outputs": [
    {
     "data": {
      "text/html": [
       "<div>\n",
       "<style scoped>\n",
       "    .dataframe tbody tr th:only-of-type {\n",
       "        vertical-align: middle;\n",
       "    }\n",
       "\n",
       "    .dataframe tbody tr th {\n",
       "        vertical-align: top;\n",
       "    }\n",
       "\n",
       "    .dataframe thead th {\n",
       "        text-align: right;\n",
       "    }\n",
       "</style>\n",
       "<table border=\"1\" class=\"dataframe\">\n",
       "  <thead>\n",
       "    <tr style=\"text-align: right;\">\n",
       "      <th></th>\n",
       "      <th>reference</th>\n",
       "      <th>helixer_post</th>\n",
       "      <th>genemark</th>\n",
       "      <th>augustus</th>\n",
       "    </tr>\n",
       "  </thead>\n",
       "  <tbody>\n",
       "    <tr>\n",
       "      <th>Solanum_pennellii</th>\n",
       "      <td>0.995294</td>\n",
       "      <td>0.978824</td>\n",
       "      <td>0.743529</td>\n",
       "      <td>0.868235</td>\n",
       "    </tr>\n",
       "    <tr>\n",
       "      <th>Hibiscus_syriacus</th>\n",
       "      <td>0.964706</td>\n",
       "      <td>0.962353</td>\n",
       "      <td>0.931765</td>\n",
       "      <td>NaN</td>\n",
       "    </tr>\n",
       "    <tr>\n",
       "      <th>Brassica_napus</th>\n",
       "      <td>0.997647</td>\n",
       "      <td>0.997647</td>\n",
       "      <td>0.995294</td>\n",
       "      <td>NaN</td>\n",
       "    </tr>\n",
       "    <tr>\n",
       "      <th>Triticum_dicoccoides</th>\n",
       "      <td>0.990588</td>\n",
       "      <td>0.992941</td>\n",
       "      <td>0.093723</td>\n",
       "      <td>0.736471</td>\n",
       "    </tr>\n",
       "    <tr>\n",
       "      <th>Papaver_somniferum</th>\n",
       "      <td>1.000000</td>\n",
       "      <td>0.997647</td>\n",
       "      <td>0.851765</td>\n",
       "      <td>NaN</td>\n",
       "    </tr>\n",
       "    <tr>\n",
       "      <th>Vitis_riparia</th>\n",
       "      <td>0.995294</td>\n",
       "      <td>0.952941</td>\n",
       "      <td>0.687059</td>\n",
       "      <td>NaN</td>\n",
       "    </tr>\n",
       "    <tr>\n",
       "      <th>Nicotiana_attenuata</th>\n",
       "      <td>0.997647</td>\n",
       "      <td>0.971765</td>\n",
       "      <td>0.296471</td>\n",
       "      <td>0.844706</td>\n",
       "    </tr>\n",
       "    <tr>\n",
       "      <th>Setaria_viridis</th>\n",
       "      <td>0.995294</td>\n",
       "      <td>0.995294</td>\n",
       "      <td>0.131765</td>\n",
       "      <td>NaN</td>\n",
       "    </tr>\n",
       "    <tr>\n",
       "      <th>Oryza_brachyantha</th>\n",
       "      <td>0.997647</td>\n",
       "      <td>0.997647</td>\n",
       "      <td>0.098824</td>\n",
       "      <td>0.720000</td>\n",
       "    </tr>\n",
       "    <tr>\n",
       "      <th>Arachis_hypogaea</th>\n",
       "      <td>1.000000</td>\n",
       "      <td>0.992941</td>\n",
       "      <td>0.738824</td>\n",
       "      <td>NaN</td>\n",
       "    </tr>\n",
       "    <tr>\n",
       "      <th>Cannabis_sativa</th>\n",
       "      <td>0.971765</td>\n",
       "      <td>0.957647</td>\n",
       "      <td>0.776471</td>\n",
       "      <td>NaN</td>\n",
       "    </tr>\n",
       "    <tr>\n",
       "      <th>Phoenix_dactylifera</th>\n",
       "      <td>0.985882</td>\n",
       "      <td>0.945882</td>\n",
       "      <td>0.103529</td>\n",
       "      <td>NaN</td>\n",
       "    </tr>\n",
       "    <tr>\n",
       "      <th>Coffea_arabica</th>\n",
       "      <td>0.983529</td>\n",
       "      <td>0.960000</td>\n",
       "      <td>0.771765</td>\n",
       "      <td>NaN</td>\n",
       "    </tr>\n",
       "  </tbody>\n",
       "</table>\n",
       "</div>"
      ],
      "text/plain": [
       "                      reference  helixer_post  genemark  augustus\n",
       "Solanum_pennellii      0.995294      0.978824  0.743529  0.868235\n",
       "Hibiscus_syriacus      0.964706      0.962353  0.931765       NaN\n",
       "Brassica_napus         0.997647      0.997647  0.995294       NaN\n",
       "Triticum_dicoccoides   0.990588      0.992941  0.093723  0.736471\n",
       "Papaver_somniferum     1.000000      0.997647  0.851765       NaN\n",
       "Vitis_riparia          0.995294      0.952941  0.687059       NaN\n",
       "Nicotiana_attenuata    0.997647      0.971765  0.296471  0.844706\n",
       "Setaria_viridis        0.995294      0.995294  0.131765       NaN\n",
       "Oryza_brachyantha      0.997647      0.997647  0.098824  0.720000\n",
       "Arachis_hypogaea       1.000000      0.992941  0.738824       NaN\n",
       "Cannabis_sativa        0.971765      0.957647  0.776471       NaN\n",
       "Phoenix_dactylifera    0.985882      0.945882  0.103529       NaN\n",
       "Coffea_arabica         0.983529      0.960000  0.771765       NaN"
      ]
     },
     "execution_count": 8,
     "metadata": {},
     "output_type": "execute_result"
    }
   ],
   "source": [
    "bcomp = extract1(dfs, 'Complete', 'fraction')\n",
    "bmissing = extract1(dfs, 'Missing', 'fraction')\n",
    "bcomp"
   ]
  },
  {
   "cell_type": "markdown",
   "id": "633bf17a-64ac-4131-a37e-af5391f3977c",
   "metadata": {},
   "source": [
    "## Plots\n",
    "Next, we can plot heatmaps of the complete and missing BUSCOs. The plant species will be sorted the same way as the BUSCO summary figure of all lineages at the end of the notebook."
   ]
  },
  {
   "cell_type": "code",
   "execution_count": 9,
   "id": "d7d10b1b-d42f-4f99-849b-6f8c44cde555",
   "metadata": {},
   "outputs": [],
   "source": [
    "def heatmap(df, group, sort_order, lab=\"genic F1\", cmap=\"viridis\", dpi=200, figsize=(4,5), fsize=10):\n",
    "    # sort dataframe according to the sort order\n",
    "    df_reorder = df.loc[sort_order, :]\n",
    "    # replace column and row name underscores with spaces\n",
    "    df_reorder = df_reorder.rename(columns={'helixer_post': 'helixer post'},\n",
    "                                   index={i:i.replace(\"_\", \" \") for i in df.index})\n",
    "    \n",
    "    \n",
    "\n",
    "    # main plot\n",
    "    # -----------\n",
    "    sns.set_theme(rc={'figure.dpi': dpi})\n",
    "    sns.set_style(\"dark\")  # options: white, dark, whitegrid, darkgrid, ticks (heatmap background/missing data values)\n",
    "    cg = sns.clustermap(df_reorder.iloc[:,:4], cmap=cmap, vmin=0, vmax=1,\n",
    "                        cbar_kws={'label': lab, 'fraction': 0.07},\n",
    "                        row_cluster=False, col_cluster=False,\n",
    "                        figsize=figsize, cbar_pos=(0.6, 0.35, 0.05, 0.3))\n",
    "    cg.ax_heatmap.yaxis.tick_left()\n",
    "    cg.ax_heatmap.set_yticklabels(cg.ax_heatmap.get_ymajorticklabels(), fontsize = fsize, style='italic')\n",
    "    cg.ax_heatmap.set_xticklabels(cg.ax_heatmap.get_xmajorticklabels(), fontsize = fsize)\n",
    "    plt.tick_params(labelsize=fsize)\n",
    "    cg.ax_cbar.set_ylabel(lab,size=fsize)"
   ]
  },
  {
   "cell_type": "code",
   "execution_count": 10,
   "id": "63dc3e57-3aba-424c-87f8-a7e61a52c027",
   "metadata": {},
   "outputs": [],
   "source": [
    "# sort order extracted from the summary plot below to have a consitent sort order between all plots \n",
    "busco_ref_sort_plant = ['Papaver_somniferum', 'Arachis_hypogaea', 'Brassica_napus',\n",
    "       'Oryza_brachyantha', 'Nicotiana_attenuata', 'Solanum_pennellii',\n",
    "       'Setaria_viridis', 'Vitis_riparia', 'Triticum_dicoccoides',\n",
    "       'Phoenix_dactylifera', 'Coffea_arabica', 'Cannabis_sativa',\n",
    "       'Hibiscus_syriacus']"
   ]
  },
  {
   "cell_type": "code",
   "execution_count": 11,
   "id": "25f8ebe2-cd60-4350-81de-bc343683b6f1",
   "metadata": {},
   "outputs": [
    {
     "data": {
      "image/png": "[encoded data removed]",
      "text/plain": [
       "<Figure size 220x275 with 4 Axes>"
      ]
     },
     "metadata": {},
     "output_type": "display_data"
    }
   ],
   "source": [
    "heatmap(bcomp, group, busco_ref_sort_plant, lab='fraction BUSCOs', dpi=55)"
   ]
  },
  {
   "cell_type": "code",
   "execution_count": 12,
   "id": "38e48f29-4d29-4d4f-b94d-0d233d28bc2f",
   "metadata": {},
   "outputs": [
    {
     "data": {
      "image/png": "[encoded data removed]",
      "text/plain": [
       "<Figure size 220x275 with 4 Axes>"
      ]
     },
     "metadata": {},
     "output_type": "display_data"
    }
   ],
   "source": [
    "heatmap(bmissing, group, busco_ref_sort_plant, lab='missing BUSCOs', cmap='cividis', dpi=55)"
   ]
  },
  {
   "cell_type": "markdown",
   "id": "9aed6baf-e527-490a-b2f9-646bea54be35",
   "metadata": {},
   "source": [
    "Finally, we plot a summary clustermap of all BUSCO scores for every lineage. For that, we collect all BUSCO scores from every species. Here, as an example, we collected the fraction of complete BUSCOs for every species and lineage (group)."
   ]
  },
  {
   "cell_type": "code",
   "execution_count": 13,
   "id": "c9b68721-441b-494f-89be-9a5c52b15a63",
   "metadata": {},
   "outputs": [],
   "source": [
    "# all complete and missing BUSCOs example\n",
    "bcomps = pd.concat([pd.concat([extract1(import_full_species(f'../summary/{group}/'), 'Complete', 'fraction'), ])\n",
    "                    for group in ['fungi', 'plant', 'vertebrate', 'invertebrate']])"
   ]
  },
  {
   "cell_type": "markdown",
   "id": "9864d740-9add-4fa9-a420-fbe6e9a4f28b",
   "metadata": {},
   "source": [
    "Now, we can create a function that collects the desired scores from a base directory, adds for each species the information to which group it belongs to and sorts the dataframe by group and inside the groups by the highest reference annotation BUSCO score."
   ]
  },
  {
   "cell_type": "code",
   "execution_count": 14,
   "id": "e2df36d6-7344-42a8-8e40-46ddd2f8f14e",
   "metadata": {},
   "outputs": [],
   "source": [
    "def create_all_species_df(basedir, idx, colidx, group_names):\n",
    "    # extract BUSCO scores for every species and group\n",
    "    df = pd.concat([pd.concat([extract1(import_full_species(f'{basedir}/{group}/'), idx, colidx), ])\n",
    "                    for group in group_names])\n",
    "    \n",
    "    # create lineage/group info array\n",
    "    groups = np.concatenate([[group]*len(os.listdir(f'{basedir}/{group}/')) for group in group_names])\n",
    "    \n",
    "    # add group info for each species to the dataframe\n",
    "    df['group'] = groups\n",
    "    df = pd.DataFrame(df)\n",
    "\n",
    "    # reorder the df to fungi, plants, vertebrates, invertebrates\n",
    "    uniques = np.unique(df['group'], return_counts=True, return_index=True)\n",
    "    uniques = [x[[0, 2, 3, 1]] for x in uniques]\n",
    "    ylabs, start, lengths = uniques\n",
    "\n",
    "    # sort by reference best reference annotation BUSCO score inside each group\n",
    "    # (best BUSCO reference score at the top of each group)\n",
    "    df = pd.concat([\n",
    "        df.iloc[i:i + count, :].sort_values(by='reference', ascending=False) for i, count in zip(start, lengths)\n",
    "    ])\n",
    "    return df"
   ]
  },
  {
   "cell_type": "code",
   "execution_count": 15,
   "id": "e921f3c8-ac67-4cff-889c-192ab415bb6e",
   "metadata": {},
   "outputs": [],
   "source": [
    "bcomps = create_all_species_df('../summary', idx='Complete', colidx='fraction',\n",
    "                               group_names=['fungi', 'plant', 'vertebrate', 'invertebrate'])"
   ]
  },
  {
   "cell_type": "code",
   "execution_count": 16,
   "id": "d40c37a2-6901-474d-83dc-0859f0884209",
   "metadata": {},
   "outputs": [
    {
     "data": {
      "text/plain": [
       "count    45.000000\n",
       "mean      0.036482\n",
       "std       0.084337\n",
       "min      -0.067282\n",
       "25%       0.002353\n",
       "50%       0.023529\n",
       "75%       0.036688\n",
       "max       0.468553\n",
       "dtype: float64"
      ]
     },
     "execution_count": 16,
     "metadata": {},
     "output_type": "execute_result"
    }
   ],
   "source": [
    "# difference helixer to reference\n",
    "(bcomps['reference'] - bcomps['helixer_post']).describe()"
   ]
  },
  {
   "cell_type": "code",
   "execution_count": 17,
   "id": "6abeb367-4d4e-4714-9430-34d29eeddb0e",
   "metadata": {},
   "outputs": [],
   "source": [
    "bmissing = create_all_species_df('../summary', idx='Missing', colidx='fraction',\n",
    "                                 group_names=['fungi', 'plant', 'vertebrate', 'invertebrate'])"
   ]
  },
  {
   "cell_type": "code",
   "execution_count": 18,
   "id": "d8a5a8f9-0fea-42c4-8eed-5f4aaa7d19c6",
   "metadata": {},
   "outputs": [],
   "source": [
    "def plot_busco_summary(all_df, figsize=(2.5,4.5), dpi=100, fsize=10, lab='fraction BUSCOs', cmap='viridis', figname='filler'):\n",
    "    df_reorder = all_df.rename(columns={'helixer_post': 'helixer post'})\n",
    "    \n",
    "    # colors\n",
    "    cmap2=plt.get_cmap(\"Set1\") \n",
    "    x = [8, 1, 0, 2]  # 2=green, 8=grey, 0=red, 1=blue\n",
    "    colors = np.array(cmap2.colors)[np.array(x)]\n",
    "    \n",
    "    # order colors to match \n",
    "    key={'invertebrate': 0, 'vertebrate': 2, 'fungi': 1, 'plant': 3}\n",
    "    newc = [colors[key[x]] for x in df_reorder['group']]\n",
    "    \n",
    "    # main plot\n",
    "    # -----------\n",
    "    sns.set_theme(rc={'figure.dpi': dpi})\n",
    "    sns.set_style(\"dark\")  # options: white, dark, whitegrid, darkgrid, ticks (heatmap background/missing data values)\n",
    "    cg = sns.clustermap(df_reorder.iloc[:,:4], cmap=cmap, vmin=0, vmax=1,\n",
    "                        cbar_kws={'label': lab, 'fraction': 0.07},\n",
    "                        row_cluster=False, yticklabels=False, col_cluster=False, row_colors=newc,\n",
    "                        figsize=figsize, cbar_pos=(1, 0.35, 0.1, 0.3), \n",
    "                        colors_ratio=0.07)\n",
    "    \n",
    "    ylabs, start, lengths = np.unique(df_reorder['group'], return_counts=True, return_index=True)\n",
    "    \n",
    "    cg.ax_row_colors.set_yticks(start + lengths // 2)\n",
    "    cg.ax_row_colors.set_yticklabels(ylabs, rotation=60, size=fsize)\n",
    "    cg.ax_heatmap.set_xticklabels(cg.ax_heatmap.get_xmajorticklabels(), fontsize = fsize)\n",
    "    plt.tick_params(labelsize=fsize)\n",
    "    cg.ax_cbar.set_ylabel(lab,size=fsize)\n",
    "\n",
    "    # save figure\n",
    "    #cg.savefig(f\"joint/{figname}.pdf\")\n",
    "    #cg.savefig(f\"joint/{figname}.eps\")"
   ]
  },
  {
   "cell_type": "code",
   "execution_count": 19,
   "id": "59ca915e-8bae-4d3b-b937-f8f2b7db55b8",
   "metadata": {},
   "outputs": [
    {
     "data": {
      "image/png": "[encoded data removed]",
      "text/plain": [
       "<Figure size 137.5x247.5 with 5 Axes>"
      ]
     },
     "metadata": {},
     "output_type": "display_data"
    }
   ],
   "source": [
    "plot_busco_summary(bcomps, dpi=55)"
   ]
  },
  {
   "cell_type": "code",
   "execution_count": 20,
   "id": "848714f1-7767-4572-aa2d-55e8d52682e8",
   "metadata": {},
   "outputs": [
    {
     "data": {
      "image/png": "[encoded data removed]",
      "text/plain": [
       "<Figure size 137.5x247.5 with 5 Axes>"
      ]
     },
     "metadata": {},
     "output_type": "display_data"
    }
   ],
   "source": [
    "plot_busco_summary(bmissing, dpi=55, cmap='cividis')"
   ]
  },
  {
   "cell_type": "code",
   "execution_count": 21,
   "id": "a684acf9-f574-40c4-b611-0de9226bc767",
   "metadata": {},
   "outputs": [
    {
     "data": {
      "text/plain": [
       "Index(['Neurospora_crassa', 'Coccidioides_immitis', 'Fusarium_graminearum',\n",
       "       'Debaryomyces_hansenii', 'Aspergillus_terreus', 'Laccaria_bicolor',\n",
       "       'Papaver_somniferum', 'Arachis_hypogaea', 'Brassica_napus',\n",
       "       'Nicotiana_attenuata', 'Oryza_brachyantha', 'Solanum_pennellii',\n",
       "       'Vitis_riparia', 'Setaria_viridis', 'Triticum_dicoccoides',\n",
       "       'Phoenix_dactylifera', 'Coffea_arabica', 'Cannabis_sativa',\n",
       "       'Hibiscus_syriacus', 'Balaenoptera_musculus', 'Sparus_aurata',\n",
       "       'Xiphias_gladius', 'Desmodus_rotundus', 'Pseudonaja_textilis',\n",
       "       'Falco_naumanni', 'Chiroxiphia_lanceolata', 'Myotis_davidii',\n",
       "       'Lagopus_leucura', 'Rhincodon_typus', 'Opisthocomus_hoazin',\n",
       "       'Bombus_impatiens', 'Tribolium_castaneum', 'Drosophila_virilis',\n",
       "       'Apis_dorsata', 'Frankliniella_occidentalis', 'Trachymyrmex_cornetzi',\n",
       "       'Drosophila_albomicans', 'Ctenocephalides_felis', 'Atta_cephalotes',\n",
       "       'Rhopalosiphum_maidis', 'Culex_pipiens', 'Hyposmocoma_kahamanoa',\n",
       "       'Caenorhabditis_remanei', 'Schistosoma_mansoni',\n",
       "       'Opisthorchis_viverrini'],\n",
       "      dtype='object')"
      ]
     },
     "execution_count": 21,
     "metadata": {},
     "output_type": "execute_result"
    }
   ],
   "source": [
    "# passed to all other heat- and clustermaps, to maintain order\n",
    "# (see vs_reference_performance_comparison.ipynb and vs_reference_performance_gffcompare.ipynb)\n",
    "bcomps.index"
   ]
  },
  {
   "cell_type": "code",
   "execution_count": 22,
   "id": "163c3d66-07ca-420e-addc-b58a8737b338",
   "metadata": {},
   "outputs": [],
   "source": [
    "# save BUSCO scores dataframe as csv\n",
    "bcomps.rename(columns={'helixer_post': 'helixer post'})\n",
    "bcomps.to_csv('joint/fraction_BUSCOs.csv')"
   ]
  },
  {
   "cell_type": "code",
   "execution_count": null,
   "id": "8dcdd6be-f1ac-4296-8c6d-7ea6318079c6",
   "metadata": {},
   "outputs": [],
   "source": []
  }
 ],
 "metadata": {
  "kernelspec": {
   "display_name": "Python 3 (ipykernel)",
   "language": "python",
   "name": "python3"
  },
  "language_info": {
   "codemirror_mode": {
    "name": "ipython",
    "version": 3
   },
   "file_extension": ".py",
   "mimetype": "text/x-python",
   "name": "python",
   "nbconvert_exporter": "python",
   "pygments_lexer": "ipython3",
   "version": "3.10.12"
  },
  "widgets": {
   "application/vnd.jupyter.widget-state+json": {
    "state": {},
    "version_major": 2,
    "version_minor": 0
   }
  }
 },
 "nbformat": 4,
 "nbformat_minor": 5
}
